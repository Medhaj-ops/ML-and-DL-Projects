{
 "cells": [
  {
   "cell_type": "code",
   "execution_count": 287,
   "id": "4d9fb007",
   "metadata": {},
   "outputs": [],
   "source": [
    "import numpy as np\n",
    "import pandas as pd \n",
    "import matplotlib.pyplot as plt\n",
    "import seaborn as sns\n",
    "sns.set()"
   ]
  },
  {
   "cell_type": "code",
   "execution_count": 288,
   "id": "02ff1229",
   "metadata": {},
   "outputs": [],
   "source": [
    "data = pd.read_csv('/Users/medhajdubey/Downloads/faults.csv')"
   ]
  },
  {
   "cell_type": "markdown",
   "id": "13bbdaa6",
   "metadata": {},
   "source": [
    " we have a look at the stats of the data to better understand it\n"
   ]
  },
  {
   "cell_type": "code",
   "execution_count": 289,
   "id": "62826d69",
   "metadata": {},
   "outputs": [
    {
     "data": {
      "text/html": [
       "<div>\n",
       "<style scoped>\n",
       "    .dataframe tbody tr th:only-of-type {\n",
       "        vertical-align: middle;\n",
       "    }\n",
       "\n",
       "    .dataframe tbody tr th {\n",
       "        vertical-align: top;\n",
       "    }\n",
       "\n",
       "    .dataframe thead th {\n",
       "        text-align: right;\n",
       "    }\n",
       "</style>\n",
       "<table border=\"1\" class=\"dataframe\">\n",
       "  <thead>\n",
       "    <tr style=\"text-align: right;\">\n",
       "      <th></th>\n",
       "      <th>X_Minimum</th>\n",
       "      <th>X_Maximum</th>\n",
       "      <th>Y_Minimum</th>\n",
       "      <th>Y_Maximum</th>\n",
       "      <th>Pixels_Areas</th>\n",
       "      <th>X_Perimeter</th>\n",
       "      <th>Y_Perimeter</th>\n",
       "      <th>Sum_of_Luminosity</th>\n",
       "      <th>Minimum_of_Luminosity</th>\n",
       "      <th>Maximum_of_Luminosity</th>\n",
       "      <th>...</th>\n",
       "      <th>Edges_X_Index</th>\n",
       "      <th>Edges_Y_Index</th>\n",
       "      <th>Outside_Global_Index</th>\n",
       "      <th>LogOfAreas</th>\n",
       "      <th>Log_X_Index</th>\n",
       "      <th>Log_Y_Index</th>\n",
       "      <th>Orientation_Index</th>\n",
       "      <th>Luminosity_Index</th>\n",
       "      <th>SigmoidOfAreas</th>\n",
       "      <th>target</th>\n",
       "    </tr>\n",
       "  </thead>\n",
       "  <tbody>\n",
       "    <tr>\n",
       "      <th>0</th>\n",
       "      <td>42</td>\n",
       "      <td>50.0</td>\n",
       "      <td>270900</td>\n",
       "      <td>270944</td>\n",
       "      <td>267</td>\n",
       "      <td>17</td>\n",
       "      <td>44</td>\n",
       "      <td>24220</td>\n",
       "      <td>76</td>\n",
       "      <td>108</td>\n",
       "      <td>...</td>\n",
       "      <td>0.4706</td>\n",
       "      <td>1.0000</td>\n",
       "      <td>1.0</td>\n",
       "      <td>2.4265</td>\n",
       "      <td>0.9031</td>\n",
       "      <td>1.6435</td>\n",
       "      <td>0.8182</td>\n",
       "      <td>-0.2913</td>\n",
       "      <td>0.5822</td>\n",
       "      <td>Pastry</td>\n",
       "    </tr>\n",
       "    <tr>\n",
       "      <th>1</th>\n",
       "      <td>645</td>\n",
       "      <td>651.0</td>\n",
       "      <td>2538079</td>\n",
       "      <td>2538108</td>\n",
       "      <td>108</td>\n",
       "      <td>10</td>\n",
       "      <td>30</td>\n",
       "      <td>11397</td>\n",
       "      <td>84</td>\n",
       "      <td>123</td>\n",
       "      <td>...</td>\n",
       "      <td>0.6000</td>\n",
       "      <td>0.9667</td>\n",
       "      <td>1.0</td>\n",
       "      <td>2.0334</td>\n",
       "      <td>0.7782</td>\n",
       "      <td>1.4624</td>\n",
       "      <td>0.7931</td>\n",
       "      <td>-0.1756</td>\n",
       "      <td>0.2984</td>\n",
       "      <td>Pastry</td>\n",
       "    </tr>\n",
       "    <tr>\n",
       "      <th>2</th>\n",
       "      <td>829</td>\n",
       "      <td>835.0</td>\n",
       "      <td>1553913</td>\n",
       "      <td>1553931</td>\n",
       "      <td>71</td>\n",
       "      <td>8</td>\n",
       "      <td>19</td>\n",
       "      <td>7972</td>\n",
       "      <td>99</td>\n",
       "      <td>125</td>\n",
       "      <td>...</td>\n",
       "      <td>0.7500</td>\n",
       "      <td>0.9474</td>\n",
       "      <td>1.0</td>\n",
       "      <td>1.8513</td>\n",
       "      <td>0.7782</td>\n",
       "      <td>1.2553</td>\n",
       "      <td>0.6667</td>\n",
       "      <td>-0.1228</td>\n",
       "      <td>0.2150</td>\n",
       "      <td>Pastry</td>\n",
       "    </tr>\n",
       "    <tr>\n",
       "      <th>3</th>\n",
       "      <td>853</td>\n",
       "      <td>860.0</td>\n",
       "      <td>369370</td>\n",
       "      <td>369415</td>\n",
       "      <td>176</td>\n",
       "      <td>13</td>\n",
       "      <td>45</td>\n",
       "      <td>18996</td>\n",
       "      <td>99</td>\n",
       "      <td>126</td>\n",
       "      <td>...</td>\n",
       "      <td>0.5385</td>\n",
       "      <td>1.0000</td>\n",
       "      <td>1.0</td>\n",
       "      <td>2.2455</td>\n",
       "      <td>0.8451</td>\n",
       "      <td>1.6532</td>\n",
       "      <td>0.8444</td>\n",
       "      <td>-0.1568</td>\n",
       "      <td>0.5212</td>\n",
       "      <td>Pastry</td>\n",
       "    </tr>\n",
       "    <tr>\n",
       "      <th>4</th>\n",
       "      <td>1289</td>\n",
       "      <td>1306.0</td>\n",
       "      <td>498078</td>\n",
       "      <td>498335</td>\n",
       "      <td>2409</td>\n",
       "      <td>60</td>\n",
       "      <td>260</td>\n",
       "      <td>246930</td>\n",
       "      <td>37</td>\n",
       "      <td>126</td>\n",
       "      <td>...</td>\n",
       "      <td>0.2833</td>\n",
       "      <td>0.9885</td>\n",
       "      <td>1.0</td>\n",
       "      <td>3.3818</td>\n",
       "      <td>1.2305</td>\n",
       "      <td>2.4099</td>\n",
       "      <td>0.9338</td>\n",
       "      <td>-0.1992</td>\n",
       "      <td>1.0000</td>\n",
       "      <td>Pastry</td>\n",
       "    </tr>\n",
       "  </tbody>\n",
       "</table>\n",
       "<p>5 rows × 28 columns</p>\n",
       "</div>"
      ],
      "text/plain": [
       "   X_Minimum  X_Maximum  Y_Minimum  Y_Maximum  Pixels_Areas  X_Perimeter  \\\n",
       "0         42       50.0     270900     270944           267           17   \n",
       "1        645      651.0    2538079    2538108           108           10   \n",
       "2        829      835.0    1553913    1553931            71            8   \n",
       "3        853      860.0     369370     369415           176           13   \n",
       "4       1289     1306.0     498078     498335          2409           60   \n",
       "\n",
       "   Y_Perimeter  Sum_of_Luminosity  Minimum_of_Luminosity  \\\n",
       "0           44              24220                     76   \n",
       "1           30              11397                     84   \n",
       "2           19               7972                     99   \n",
       "3           45              18996                     99   \n",
       "4          260             246930                     37   \n",
       "\n",
       "   Maximum_of_Luminosity  ...  Edges_X_Index  Edges_Y_Index  \\\n",
       "0                    108  ...         0.4706         1.0000   \n",
       "1                    123  ...         0.6000         0.9667   \n",
       "2                    125  ...         0.7500         0.9474   \n",
       "3                    126  ...         0.5385         1.0000   \n",
       "4                    126  ...         0.2833         0.9885   \n",
       "\n",
       "   Outside_Global_Index  LogOfAreas  Log_X_Index  Log_Y_Index  \\\n",
       "0                   1.0      2.4265       0.9031       1.6435   \n",
       "1                   1.0      2.0334       0.7782       1.4624   \n",
       "2                   1.0      1.8513       0.7782       1.2553   \n",
       "3                   1.0      2.2455       0.8451       1.6532   \n",
       "4                   1.0      3.3818       1.2305       2.4099   \n",
       "\n",
       "   Orientation_Index  Luminosity_Index  SigmoidOfAreas  target  \n",
       "0             0.8182           -0.2913          0.5822  Pastry  \n",
       "1             0.7931           -0.1756          0.2984  Pastry  \n",
       "2             0.6667           -0.1228          0.2150  Pastry  \n",
       "3             0.8444           -0.1568          0.5212  Pastry  \n",
       "4             0.9338           -0.1992          1.0000  Pastry  \n",
       "\n",
       "[5 rows x 28 columns]"
      ]
     },
     "execution_count": 289,
     "metadata": {},
     "output_type": "execute_result"
    }
   ],
   "source": [
    "data.head()\n"
   ]
  },
  {
   "cell_type": "code",
   "execution_count": 290,
   "id": "29889cb1",
   "metadata": {},
   "outputs": [
    {
     "data": {
      "text/plain": [
       "(1941, 28)"
      ]
     },
     "execution_count": 290,
     "metadata": {},
     "output_type": "execute_result"
    }
   ],
   "source": [
    "data.shape"
   ]
  },
  {
   "cell_type": "code",
   "execution_count": 291,
   "id": "78fed7b0",
   "metadata": {},
   "outputs": [
    {
     "data": {
      "text/plain": [
       "Index(['X_Minimum', 'X_Maximum', 'Y_Minimum', 'Y_Maximum', 'Pixels_Areas',\n",
       "       'X_Perimeter', 'Y_Perimeter', 'Sum_of_Luminosity',\n",
       "       'Minimum_of_Luminosity', 'Maximum_of_Luminosity', 'Length_of_Conveyer',\n",
       "       'TypeOfSteel_A300', 'TypeOfSteel_A400', 'Steel_Plate_Thickness',\n",
       "       'Edges_Index', 'Empty_Index', 'Square_Index', 'Outside_X_Index',\n",
       "       'Edges_X_Index', 'Edges_Y_Index', 'Outside_Global_Index', 'LogOfAreas',\n",
       "       'Log_X_Index', 'Log_Y_Index', 'Orientation_Index', 'Luminosity_Index',\n",
       "       'SigmoidOfAreas', 'target'],\n",
       "      dtype='object')"
      ]
     },
     "execution_count": 291,
     "metadata": {},
     "output_type": "execute_result"
    }
   ],
   "source": [
    "data.columns"
   ]
  },
  {
   "cell_type": "code",
   "execution_count": 292,
   "id": "bbd09cd2",
   "metadata": {},
   "outputs": [
    {
     "data": {
      "text/html": [
       "<div>\n",
       "<style scoped>\n",
       "    .dataframe tbody tr th:only-of-type {\n",
       "        vertical-align: middle;\n",
       "    }\n",
       "\n",
       "    .dataframe tbody tr th {\n",
       "        vertical-align: top;\n",
       "    }\n",
       "\n",
       "    .dataframe thead th {\n",
       "        text-align: right;\n",
       "    }\n",
       "</style>\n",
       "<table border=\"1\" class=\"dataframe\">\n",
       "  <thead>\n",
       "    <tr style=\"text-align: right;\">\n",
       "      <th></th>\n",
       "      <th>X_Minimum</th>\n",
       "      <th>X_Maximum</th>\n",
       "      <th>Y_Minimum</th>\n",
       "      <th>Y_Maximum</th>\n",
       "      <th>Pixels_Areas</th>\n",
       "      <th>X_Perimeter</th>\n",
       "      <th>Y_Perimeter</th>\n",
       "      <th>Sum_of_Luminosity</th>\n",
       "      <th>Minimum_of_Luminosity</th>\n",
       "      <th>Maximum_of_Luminosity</th>\n",
       "      <th>...</th>\n",
       "      <th>Outside_X_Index</th>\n",
       "      <th>Edges_X_Index</th>\n",
       "      <th>Edges_Y_Index</th>\n",
       "      <th>Outside_Global_Index</th>\n",
       "      <th>LogOfAreas</th>\n",
       "      <th>Log_X_Index</th>\n",
       "      <th>Log_Y_Index</th>\n",
       "      <th>Orientation_Index</th>\n",
       "      <th>Luminosity_Index</th>\n",
       "      <th>SigmoidOfAreas</th>\n",
       "    </tr>\n",
       "  </thead>\n",
       "  <tbody>\n",
       "    <tr>\n",
       "      <th>count</th>\n",
       "      <td>1941.000000</td>\n",
       "      <td>1917.000000</td>\n",
       "      <td>1.941000e+03</td>\n",
       "      <td>1.941000e+03</td>\n",
       "      <td>1941.000000</td>\n",
       "      <td>1941.000000</td>\n",
       "      <td>1941.000000</td>\n",
       "      <td>1.941000e+03</td>\n",
       "      <td>1941.000000</td>\n",
       "      <td>1941.000000</td>\n",
       "      <td>...</td>\n",
       "      <td>1941.000000</td>\n",
       "      <td>1941.000000</td>\n",
       "      <td>1941.000000</td>\n",
       "      <td>1941.000000</td>\n",
       "      <td>1941.000000</td>\n",
       "      <td>1941.000000</td>\n",
       "      <td>1941.000000</td>\n",
       "      <td>1941.000000</td>\n",
       "      <td>1941.000000</td>\n",
       "      <td>1941.000000</td>\n",
       "    </tr>\n",
       "    <tr>\n",
       "      <th>mean</th>\n",
       "      <td>571.136012</td>\n",
       "      <td>613.564945</td>\n",
       "      <td>1.650685e+06</td>\n",
       "      <td>1.650739e+06</td>\n",
       "      <td>1893.878413</td>\n",
       "      <td>111.855229</td>\n",
       "      <td>82.965997</td>\n",
       "      <td>2.063121e+05</td>\n",
       "      <td>84.548686</td>\n",
       "      <td>130.193715</td>\n",
       "      <td>...</td>\n",
       "      <td>0.033361</td>\n",
       "      <td>0.610529</td>\n",
       "      <td>0.813472</td>\n",
       "      <td>0.575734</td>\n",
       "      <td>2.492388</td>\n",
       "      <td>1.335686</td>\n",
       "      <td>1.403271</td>\n",
       "      <td>0.083288</td>\n",
       "      <td>-0.131305</td>\n",
       "      <td>0.585420</td>\n",
       "    </tr>\n",
       "    <tr>\n",
       "      <th>std</th>\n",
       "      <td>520.690671</td>\n",
       "      <td>496.108846</td>\n",
       "      <td>1.774578e+06</td>\n",
       "      <td>1.774590e+06</td>\n",
       "      <td>5168.459560</td>\n",
       "      <td>301.209187</td>\n",
       "      <td>426.482879</td>\n",
       "      <td>5.122936e+05</td>\n",
       "      <td>32.134276</td>\n",
       "      <td>18.690992</td>\n",
       "      <td>...</td>\n",
       "      <td>0.058961</td>\n",
       "      <td>0.243277</td>\n",
       "      <td>0.234274</td>\n",
       "      <td>0.482352</td>\n",
       "      <td>0.788930</td>\n",
       "      <td>0.481612</td>\n",
       "      <td>0.454345</td>\n",
       "      <td>0.500868</td>\n",
       "      <td>0.148767</td>\n",
       "      <td>0.339452</td>\n",
       "    </tr>\n",
       "    <tr>\n",
       "      <th>min</th>\n",
       "      <td>0.000000</td>\n",
       "      <td>4.000000</td>\n",
       "      <td>6.712000e+03</td>\n",
       "      <td>6.724000e+03</td>\n",
       "      <td>2.000000</td>\n",
       "      <td>2.000000</td>\n",
       "      <td>1.000000</td>\n",
       "      <td>2.500000e+02</td>\n",
       "      <td>0.000000</td>\n",
       "      <td>37.000000</td>\n",
       "      <td>...</td>\n",
       "      <td>0.001500</td>\n",
       "      <td>0.014400</td>\n",
       "      <td>0.048400</td>\n",
       "      <td>0.000000</td>\n",
       "      <td>0.301000</td>\n",
       "      <td>0.301000</td>\n",
       "      <td>0.000000</td>\n",
       "      <td>-0.991000</td>\n",
       "      <td>-0.998900</td>\n",
       "      <td>0.119000</td>\n",
       "    </tr>\n",
       "    <tr>\n",
       "      <th>25%</th>\n",
       "      <td>51.000000</td>\n",
       "      <td>192.000000</td>\n",
       "      <td>4.712530e+05</td>\n",
       "      <td>4.712810e+05</td>\n",
       "      <td>84.000000</td>\n",
       "      <td>15.000000</td>\n",
       "      <td>13.000000</td>\n",
       "      <td>9.522000e+03</td>\n",
       "      <td>63.000000</td>\n",
       "      <td>124.000000</td>\n",
       "      <td>...</td>\n",
       "      <td>0.006600</td>\n",
       "      <td>0.411800</td>\n",
       "      <td>0.596800</td>\n",
       "      <td>0.000000</td>\n",
       "      <td>1.924300</td>\n",
       "      <td>1.000000</td>\n",
       "      <td>1.079200</td>\n",
       "      <td>-0.333300</td>\n",
       "      <td>-0.195000</td>\n",
       "      <td>0.248200</td>\n",
       "    </tr>\n",
       "    <tr>\n",
       "      <th>50%</th>\n",
       "      <td>435.000000</td>\n",
       "      <td>458.000000</td>\n",
       "      <td>1.204128e+06</td>\n",
       "      <td>1.204136e+06</td>\n",
       "      <td>174.000000</td>\n",
       "      <td>26.000000</td>\n",
       "      <td>25.000000</td>\n",
       "      <td>1.920200e+04</td>\n",
       "      <td>90.000000</td>\n",
       "      <td>127.000000</td>\n",
       "      <td>...</td>\n",
       "      <td>0.010100</td>\n",
       "      <td>0.636400</td>\n",
       "      <td>0.947400</td>\n",
       "      <td>1.000000</td>\n",
       "      <td>2.240600</td>\n",
       "      <td>1.176100</td>\n",
       "      <td>1.322200</td>\n",
       "      <td>0.095200</td>\n",
       "      <td>-0.133000</td>\n",
       "      <td>0.506300</td>\n",
       "    </tr>\n",
       "    <tr>\n",
       "      <th>75%</th>\n",
       "      <td>1053.000000</td>\n",
       "      <td>1066.000000</td>\n",
       "      <td>2.183073e+06</td>\n",
       "      <td>2.183084e+06</td>\n",
       "      <td>822.000000</td>\n",
       "      <td>84.000000</td>\n",
       "      <td>83.000000</td>\n",
       "      <td>8.301100e+04</td>\n",
       "      <td>106.000000</td>\n",
       "      <td>140.000000</td>\n",
       "      <td>...</td>\n",
       "      <td>0.023500</td>\n",
       "      <td>0.800000</td>\n",
       "      <td>1.000000</td>\n",
       "      <td>1.000000</td>\n",
       "      <td>2.914900</td>\n",
       "      <td>1.518500</td>\n",
       "      <td>1.732400</td>\n",
       "      <td>0.511600</td>\n",
       "      <td>-0.066600</td>\n",
       "      <td>0.999800</td>\n",
       "    </tr>\n",
       "    <tr>\n",
       "      <th>max</th>\n",
       "      <td>1705.000000</td>\n",
       "      <td>1713.000000</td>\n",
       "      <td>1.298766e+07</td>\n",
       "      <td>1.298769e+07</td>\n",
       "      <td>152655.000000</td>\n",
       "      <td>10449.000000</td>\n",
       "      <td>18152.000000</td>\n",
       "      <td>1.159141e+07</td>\n",
       "      <td>203.000000</td>\n",
       "      <td>253.000000</td>\n",
       "      <td>...</td>\n",
       "      <td>0.875900</td>\n",
       "      <td>1.000000</td>\n",
       "      <td>1.000000</td>\n",
       "      <td>1.000000</td>\n",
       "      <td>5.183700</td>\n",
       "      <td>3.074100</td>\n",
       "      <td>4.258700</td>\n",
       "      <td>0.991700</td>\n",
       "      <td>0.642100</td>\n",
       "      <td>1.000000</td>\n",
       "    </tr>\n",
       "  </tbody>\n",
       "</table>\n",
       "<p>8 rows × 27 columns</p>\n",
       "</div>"
      ],
      "text/plain": [
       "         X_Minimum    X_Maximum     Y_Minimum     Y_Maximum   Pixels_Areas  \\\n",
       "count  1941.000000  1917.000000  1.941000e+03  1.941000e+03    1941.000000   \n",
       "mean    571.136012   613.564945  1.650685e+06  1.650739e+06    1893.878413   \n",
       "std     520.690671   496.108846  1.774578e+06  1.774590e+06    5168.459560   \n",
       "min       0.000000     4.000000  6.712000e+03  6.724000e+03       2.000000   \n",
       "25%      51.000000   192.000000  4.712530e+05  4.712810e+05      84.000000   \n",
       "50%     435.000000   458.000000  1.204128e+06  1.204136e+06     174.000000   \n",
       "75%    1053.000000  1066.000000  2.183073e+06  2.183084e+06     822.000000   \n",
       "max    1705.000000  1713.000000  1.298766e+07  1.298769e+07  152655.000000   \n",
       "\n",
       "        X_Perimeter   Y_Perimeter  Sum_of_Luminosity  Minimum_of_Luminosity  \\\n",
       "count   1941.000000   1941.000000       1.941000e+03            1941.000000   \n",
       "mean     111.855229     82.965997       2.063121e+05              84.548686   \n",
       "std      301.209187    426.482879       5.122936e+05              32.134276   \n",
       "min        2.000000      1.000000       2.500000e+02               0.000000   \n",
       "25%       15.000000     13.000000       9.522000e+03              63.000000   \n",
       "50%       26.000000     25.000000       1.920200e+04              90.000000   \n",
       "75%       84.000000     83.000000       8.301100e+04             106.000000   \n",
       "max    10449.000000  18152.000000       1.159141e+07             203.000000   \n",
       "\n",
       "       Maximum_of_Luminosity  ...  Outside_X_Index  Edges_X_Index  \\\n",
       "count            1941.000000  ...      1941.000000    1941.000000   \n",
       "mean              130.193715  ...         0.033361       0.610529   \n",
       "std                18.690992  ...         0.058961       0.243277   \n",
       "min                37.000000  ...         0.001500       0.014400   \n",
       "25%               124.000000  ...         0.006600       0.411800   \n",
       "50%               127.000000  ...         0.010100       0.636400   \n",
       "75%               140.000000  ...         0.023500       0.800000   \n",
       "max               253.000000  ...         0.875900       1.000000   \n",
       "\n",
       "       Edges_Y_Index  Outside_Global_Index   LogOfAreas  Log_X_Index  \\\n",
       "count    1941.000000           1941.000000  1941.000000  1941.000000   \n",
       "mean        0.813472              0.575734     2.492388     1.335686   \n",
       "std         0.234274              0.482352     0.788930     0.481612   \n",
       "min         0.048400              0.000000     0.301000     0.301000   \n",
       "25%         0.596800              0.000000     1.924300     1.000000   \n",
       "50%         0.947400              1.000000     2.240600     1.176100   \n",
       "75%         1.000000              1.000000     2.914900     1.518500   \n",
       "max         1.000000              1.000000     5.183700     3.074100   \n",
       "\n",
       "       Log_Y_Index  Orientation_Index  Luminosity_Index  SigmoidOfAreas  \n",
       "count  1941.000000        1941.000000       1941.000000     1941.000000  \n",
       "mean      1.403271           0.083288         -0.131305        0.585420  \n",
       "std       0.454345           0.500868          0.148767        0.339452  \n",
       "min       0.000000          -0.991000         -0.998900        0.119000  \n",
       "25%       1.079200          -0.333300         -0.195000        0.248200  \n",
       "50%       1.322200           0.095200         -0.133000        0.506300  \n",
       "75%       1.732400           0.511600         -0.066600        0.999800  \n",
       "max       4.258700           0.991700          0.642100        1.000000  \n",
       "\n",
       "[8 rows x 27 columns]"
      ]
     },
     "execution_count": 292,
     "metadata": {},
     "output_type": "execute_result"
    }
   ],
   "source": [
    "data.describe()"
   ]
  },
  {
   "cell_type": "markdown",
   "id": "39f9775c",
   "metadata": {},
   "source": [
    "# Data Visualization using histograms"
   ]
  },
  {
   "cell_type": "code",
   "execution_count": 293,
   "id": "41d3be11",
   "metadata": {},
   "outputs": [
    {
     "data": {
      "image/png": "[encoded data removed]",
      "text/plain": [
       "<Figure size 1500x1500 with 30 Axes>"
      ]
     },
     "metadata": {},
     "output_type": "display_data"
    }
   ],
   "source": [
    "data.hist(figsize=(15,15))\n",
    "plt.show()\n"
   ]
  },
  {
   "cell_type": "markdown",
   "id": "edff517e",
   "metadata": {},
   "source": [
    "# Data Preprocessing"
   ]
  },
  {
   "cell_type": "markdown",
   "id": "f6e9fa05",
   "metadata": {},
   "source": [
    "Checking for null values"
   ]
  },
  {
   "cell_type": "code",
   "execution_count": 294,
   "id": "ab1a86d6",
   "metadata": {},
   "outputs": [
    {
     "data": {
      "text/plain": [
       "X_Minimum                 0\n",
       "X_Maximum                24\n",
       "Y_Minimum                 0\n",
       "Y_Maximum                 0\n",
       "Pixels_Areas              0\n",
       "X_Perimeter               0\n",
       "Y_Perimeter               0\n",
       "Sum_of_Luminosity         0\n",
       "Minimum_of_Luminosity     0\n",
       "Maximum_of_Luminosity     0\n",
       "Length_of_Conveyer        0\n",
       "TypeOfSteel_A300          0\n",
       "TypeOfSteel_A400          0\n",
       "Steel_Plate_Thickness    30\n",
       "Edges_Index               0\n",
       "Empty_Index              26\n",
       "Square_Index              0\n",
       "Outside_X_Index           0\n",
       "Edges_X_Index             0\n",
       "Edges_Y_Index             0\n",
       "Outside_Global_Index      0\n",
       "LogOfAreas                0\n",
       "Log_X_Index               0\n",
       "Log_Y_Index               0\n",
       "Orientation_Index         0\n",
       "Luminosity_Index          0\n",
       "SigmoidOfAreas            0\n",
       "target                    0\n",
       "dtype: int64"
      ]
     },
     "execution_count": 294,
     "metadata": {},
     "output_type": "execute_result"
    }
   ],
   "source": [
    "data.isnull().sum()"
   ]
  },
  {
   "cell_type": "code",
   "execution_count": 295,
   "id": "d60b6002",
   "metadata": {},
   "outputs": [],
   "source": [
    "data.X_Maximum.fillna(data.X_Maximum.median(),inplace=True)\n",
    "data.Steel_Plate_Thickness.fillna(data.Steel_Plate_Thickness.median(),inplace=True)\n",
    "data.Empty_Index.fillna(np.mean(data.Empty_Index),inplace=True)"
   ]
  },
  {
   "cell_type": "code",
   "execution_count": 296,
   "id": "9c70228e",
   "metadata": {},
   "outputs": [
    {
     "data": {
      "text/plain": [
       "X_Minimum                0\n",
       "X_Maximum                0\n",
       "Y_Minimum                0\n",
       "Y_Maximum                0\n",
       "Pixels_Areas             0\n",
       "X_Perimeter              0\n",
       "Y_Perimeter              0\n",
       "Sum_of_Luminosity        0\n",
       "Minimum_of_Luminosity    0\n",
       "Maximum_of_Luminosity    0\n",
       "Length_of_Conveyer       0\n",
       "TypeOfSteel_A300         0\n",
       "TypeOfSteel_A400         0\n",
       "Steel_Plate_Thickness    0\n",
       "Edges_Index              0\n",
       "Empty_Index              0\n",
       "Square_Index             0\n",
       "Outside_X_Index          0\n",
       "Edges_X_Index            0\n",
       "Edges_Y_Index            0\n",
       "Outside_Global_Index     0\n",
       "LogOfAreas               0\n",
       "Log_X_Index              0\n",
       "Log_Y_Index              0\n",
       "Orientation_Index        0\n",
       "Luminosity_Index         0\n",
       "SigmoidOfAreas           0\n",
       "target                   0\n",
       "dtype: int64"
      ]
     },
     "execution_count": 296,
     "metadata": {},
     "output_type": "execute_result"
    }
   ],
   "source": [
    "data.isnull().sum()"
   ]
  },
  {
   "cell_type": "code",
   "execution_count": 297,
   "id": "a1fd3783",
   "metadata": {},
   "outputs": [
    {
     "data": {
      "text/plain": [
       "array(['Pastry', 'Z_Scratch', 'K_Scatch', 'Stains', 'Dirtiness', 'Bumps',\n",
       "       'Other_Faults'], dtype=object)"
      ]
     },
     "execution_count": 297,
     "metadata": {},
     "output_type": "execute_result"
    }
   ],
   "source": [
    "data['target'].unique()"
   ]
  },
  {
   "cell_type": "code",
   "execution_count": 298,
   "id": "d76023d4",
   "metadata": {},
   "outputs": [
    {
     "data": {
      "text/plain": [
       "0             Pastry\n",
       "1             Pastry\n",
       "2             Pastry\n",
       "3             Pastry\n",
       "4             Pastry\n",
       "            ...     \n",
       "1936    Other_Faults\n",
       "1937    Other_Faults\n",
       "1938    Other_Faults\n",
       "1939    Other_Faults\n",
       "1940    Other_Faults\n",
       "Name: target, Length: 1941, dtype: object"
      ]
     },
     "execution_count": 298,
     "metadata": {},
     "output_type": "execute_result"
    }
   ],
   "source": [
    "data.target"
   ]
  },
  {
   "cell_type": "code",
   "execution_count": 299,
   "id": "c1a68a30",
   "metadata": {},
   "outputs": [],
   "source": [
    "from sklearn.preprocessing import LabelEncoder\n",
    "le=LabelEncoder()\n",
    "X=data.drop('target',axis=1)\n",
    "Y=le.fit_transform(data['target'])"
   ]
  },
  {
   "cell_type": "code",
   "execution_count": 300,
   "id": "d9bbf29f",
   "metadata": {},
   "outputs": [
    {
     "data": {
      "text/plain": [
       "array(['Bumps', 'Dirtiness', 'K_Scatch', 'Other_Faults', 'Pastry',\n",
       "       'Stains', 'Z_Scratch'], dtype=object)"
      ]
     },
     "execution_count": 300,
     "metadata": {},
     "output_type": "execute_result"
    }
   ],
   "source": [
    "le.classes_"
   ]
  },
  {
   "cell_type": "code",
   "execution_count": 301,
   "id": "e8565d85",
   "metadata": {},
   "outputs": [
    {
     "data": {
      "text/plain": [
       "array(['Bumps', 'Dirtiness', 'K_Scatch', 'Other_Faults', 'Pastry',\n",
       "       'Stains', 'Z_Scratch'], dtype=object)"
      ]
     },
     "execution_count": 301,
     "metadata": {},
     "output_type": "execute_result"
    }
   ],
   "source": [
    "le.inverse_transform([0,1,2,3,4,5,6])"
   ]
  },
  {
   "cell_type": "code",
   "execution_count": 302,
   "id": "43587cf7",
   "metadata": {},
   "outputs": [
    {
     "data": {
      "text/plain": [
       "{'Bumps': 0,\n",
       " 'Dirtiness': 1,\n",
       " 'K_Scatch': 2,\n",
       " 'Other_Faults': 3,\n",
       " 'Pastry': 4,\n",
       " 'Stains': 5,\n",
       " 'Z_Scratch': 6}"
      ]
     },
     "execution_count": 302,
     "metadata": {},
     "output_type": "execute_result"
    }
   ],
   "source": [
    "dict(zip(le.inverse_transform([0,1,2,3,4,5,6]),[0,1,2,3,4,5,6]))"
   ]
  },
  {
   "cell_type": "code",
   "execution_count": 303,
   "id": "77cbb8a9",
   "metadata": {},
   "outputs": [],
   "source": [
    "X = X.to_numpy()"
   ]
  },
  {
   "cell_type": "code",
   "execution_count": 304,
   "id": "a300f034",
   "metadata": {},
   "outputs": [
    {
     "name": "stdout",
     "output_type": "stream",
     "text": [
      "<class 'numpy.ndarray'> <class 'numpy.ndarray'>\n"
     ]
    }
   ],
   "source": [
    "print(type(X), type(Y))"
   ]
  },
  {
   "cell_type": "code",
   "execution_count": 305,
   "id": "cfc1c1b2",
   "metadata": {},
   "outputs": [],
   "source": [
    "train_size = int(.8*len(data))\n",
    "X_train = X[:train_size]\n",
    "X_test = X[train_size:]\n",
    "Y_train = Y[:train_size]\n",
    "Y_test = Y[train_size:]"
   ]
  },
  {
   "cell_type": "code",
   "execution_count": 306,
   "id": "be30eb49",
   "metadata": {},
   "outputs": [
    {
     "data": {
      "text/plain": [
       "((1552, 27), (1552,), (389, 27), (389,))"
      ]
     },
     "execution_count": 306,
     "metadata": {},
     "output_type": "execute_result"
    }
   ],
   "source": [
    "X_train.shape, Y_train.shape, X_test.shape, Y_test.shape"
   ]
  },
  {
   "cell_type": "markdown",
   "id": "3d07b25b",
   "metadata": {},
   "source": [
    "# Buidling the model"
   ]
  },
  {
   "cell_type": "code",
   "execution_count": 307,
   "id": "49214634",
   "metadata": {},
   "outputs": [],
   "source": [
    "import numpy as np\n",
    "from collections import Counter\n",
    "\n",
    "class Node:\n",
    "    def __init__(self, feature=None, threshold=None, left=None, right=None,*,value=None):\n",
    "        self.feature = feature\n",
    "        self.threshold = threshold\n",
    "        self.left = left\n",
    "        self.right = right\n",
    "        self.value = value\n",
    "        \n",
    "    def is_leaf_node(self):\n",
    "        return self.value is not None\n",
    "\n",
    "\n",
    "class DecisionTree:\n",
    "    def __init__(self, min_samples_split=6, max_depth=25, n_features=None):\n",
    "        self.min_samples_split=min_samples_split\n",
    "        self.max_depth=max_depth\n",
    "        self.n_features=n_features\n",
    "        self.root=None\n",
    "\n",
    "    def fit(self, X, y):\n",
    "        self.n_features = X.shape[1] if not self.n_features else min(X.shape[1],self.n_features)\n",
    "        self.root = self._grow_tree(X, y)\n",
    "\n",
    "    def _grow_tree(self, X, y, depth=0):\n",
    "        n_samples, n_feats = X.shape\n",
    "        n_labels = len(np.unique(y))\n",
    "\n",
    "        # check the stopping criteria\n",
    "        if (depth>=self.max_depth or n_labels==1 or n_samples<self.min_samples_split):\n",
    "            leaf_value = self._most_common_label(y)\n",
    "            return Node(value=leaf_value)\n",
    "\n",
    "        feat_idxs = np.arange(0,n_feats,1)\n",
    "\n",
    "\n",
    "\n",
    "\n",
    "\n",
    "        # find the best split\n",
    "        best_feature, best_thresh = self._best_split(X, y, feat_idxs)\n",
    "\n",
    "        # create child nodes\n",
    "        left_idxs, right_idxs = self._split(X[:, best_feature], best_thresh)\n",
    "        left = self._grow_tree(X[left_idxs, :], y[left_idxs], depth+1)\n",
    "        right = self._grow_tree(X[right_idxs, :], y[right_idxs], depth+1)\n",
    "        return Node(best_feature, best_thresh, left, right)\n",
    "\n",
    "\n",
    "    def _best_split(self, X, y, feat_idxs):\n",
    "        best_gain = -1\n",
    "        split_idx, split_threshold = None, None\n",
    "\n",
    "        for feat_idx in feat_idxs:\n",
    "            X_column = X[:, feat_idx]\n",
    "            thresholds = np.unique(X_column)\n",
    "\n",
    "            for thr in thresholds:\n",
    "                # calculate the information gain\n",
    "                gain = self._information_gain(y, X_column, thr)\n",
    "\n",
    "                if gain > best_gain:\n",
    "                    best_gain = gain\n",
    "                    split_idx = feat_idx\n",
    "                    split_threshold = thr\n",
    "\n",
    "        return split_idx, split_threshold\n",
    "\n",
    "\n",
    "    def _information_gain(self, y, X_column, threshold):\n",
    "        # parent entropy\n",
    "        parent_entropy = self._entropy(y)\n",
    "\n",
    "        # create children\n",
    "        left_idxs, right_idxs = self._split(X_column, threshold)\n",
    "\n",
    "        if len(left_idxs) == 0 or len(right_idxs) == 0:\n",
    "            return 0\n",
    "        \n",
    "        # calculate the weighted avg. entropy of children\n",
    "        n = len(y)\n",
    "        n_l, n_r = len(left_idxs), len(right_idxs)\n",
    "        e_l, e_r = self._entropy(y[left_idxs]), self._entropy(y[right_idxs])\n",
    "        child_entropy = (n_l/n) * e_l + (n_r/n) * e_r\n",
    "\n",
    "        # calculate the IG\n",
    "        information_gain = parent_entropy - child_entropy\n",
    "        return information_gain\n",
    "\n",
    "    def _split(self, X_column, split_thresh):\n",
    "        left_idxs = np.argwhere(X_column <= split_thresh).flatten()   #returns the an array w the indices of non 0 integers in the input array\n",
    "        right_idxs = np.argwhere(X_column > split_thresh).flatten()\n",
    "        return left_idxs, right_idxs\n",
    "\n",
    "    def _entropy(self, y):\n",
    "        hist = np.bincount(y)     #returns the number of times each element is repeated in an array\n",
    "        ps = hist / len(y)\n",
    "        return -np.sum([p * np.log(p) for p in ps if p>0])\n",
    "\n",
    "\n",
    "    def _most_common_label(self, y):\n",
    "        counter = Counter(y)\n",
    "        value = counter.most_common(1)[0][0]\n",
    "        return value\n",
    "\n",
    "    def predict(self, X):\n",
    "        return np.array([self._traverse_tree(x, self.root) for x in X])\n",
    "\n",
    "    def _traverse_tree(self, x, node):\n",
    "        if node.is_leaf_node():\n",
    "            return node.value\n",
    "\n",
    "        if x[node.feature] <= node.threshold:\n",
    "            return self._traverse_tree(x, node.left)\n",
    "        return self._traverse_tree(x, node.right)\n",
    "        "
   ]
  },
  {
   "cell_type": "code",
   "execution_count": 308,
   "id": "76262359",
   "metadata": {},
   "outputs": [],
   "source": [
    "def accuracy(y_test, y_pred):\n",
    "    return np.sum(y_test == y_pred) / len(y_test)\n"
   ]
  },
  {
   "cell_type": "markdown",
   "id": "3182a358",
   "metadata": {},
   "source": [
    "# Model training"
   ]
  },
  {
   "cell_type": "code",
   "execution_count": 309,
   "id": "27a4bebe",
   "metadata": {},
   "outputs": [
    {
     "name": "stdout",
     "output_type": "stream",
     "text": [
      "0.9652061855670103\n"
     ]
    }
   ],
   "source": [
    "clf = DecisionTree(max_depth=25)\n",
    "clf.fit(X_train, Y_train)\n",
    "predictions = clf.predict(X_train)\n",
    "acc = accuracy(Y_train, predictions)\n",
    "print(acc)"
   ]
  },
  {
   "cell_type": "code",
   "execution_count": 310,
   "id": "fe54d616",
   "metadata": {},
   "outputs": [
    {
     "data": {
      "text/plain": [
       "(1552,)"
      ]
     },
     "execution_count": 310,
     "metadata": {},
     "output_type": "execute_result"
    }
   ],
   "source": [
    "predictions.shape"
   ]
  },
  {
   "cell_type": "markdown",
   "id": "4637cf36",
   "metadata": {},
   "source": [
    "# Confusion Matrix"
   ]
  },
  {
   "cell_type": "code",
   "execution_count": 311,
   "id": "ffa8bb18",
   "metadata": {},
   "outputs": [],
   "source": [
    "m = 7\n",
    "matrix = np.zeros((m,m))\n",
    "\n",
    "for i in range (len(predictions)):\n",
    "    matrix[predictions[i], Y_train[i]] = matrix[predictions[i], Y_train[i]] + 1\n",
    "        "
   ]
  },
  {
   "cell_type": "code",
   "execution_count": 312,
   "id": "6ffb3fe9",
   "metadata": {},
   "outputs": [
    {
     "data": {
      "text/plain": [
       "array([[386.,   1.,   3.,  10.,   3.,   0.,   0.],\n",
       "       [  0.,  54.,   0.,   1.,   0.,   0.,   0.],\n",
       "       [  0.,   0., 384.,   0.,   0.,   0.,   0.],\n",
       "       [  8.,   0.,   2., 262.,   0.,   2.,   2.],\n",
       "       [  6.,   0.,   2.,   9., 155.,   0.,   1.],\n",
       "       [  1.,   0.,   0.,   1.,   0.,  70.,   0.],\n",
       "       [  1.,   0.,   0.,   1.,   0.,   0., 187.]])"
      ]
     },
     "execution_count": 312,
     "metadata": {},
     "output_type": "execute_result"
    }
   ],
   "source": [
    "matrix"
   ]
  },
  {
   "cell_type": "code",
   "execution_count": 313,
   "id": "3c246419",
   "metadata": {},
   "outputs": [
    {
     "name": "stdout",
     "output_type": "stream",
     "text": [
      "<class 'numpy.ndarray'>\n"
     ]
    }
   ],
   "source": [
    "print(type(matrix))"
   ]
  },
  {
   "cell_type": "code",
   "execution_count": 314,
   "id": "ab6a8ad3",
   "metadata": {},
   "outputs": [],
   "source": [
    "def draw_confusion_matrix(cm):\n",
    "    plt.figure(figsize=(12,8))\n",
    "    sns.heatmap(cm,annot=True,fmt=\"f\", center=0, cmap='autumn') \n",
    "    plt.title(\"Confusion Matrix\")\n",
    "    plt.ylabel('True label')\n",
    "    plt.xlabel('Predicted label')\n",
    "    plt.show()"
   ]
  },
  {
   "cell_type": "code",
   "execution_count": 315,
   "id": "baeb25ea",
   "metadata": {},
   "outputs": [
    {
     "data": {
      "image/png": "[encoded data removed]",
      "text/plain": [
       "<Figure size 1200x800 with 2 Axes>"
      ]
     },
     "metadata": {},
     "output_type": "display_data"
    }
   ],
   "source": [
    "draw_confusion_matrix(matrix)\n"
   ]
  },
  {
   "cell_type": "markdown",
   "id": "3799f2d6",
   "metadata": {},
   "source": [
    "# Classification Report"
   ]
  },
  {
   "cell_type": "code",
   "execution_count": 316,
   "id": "cc88f7bf",
   "metadata": {},
   "outputs": [],
   "source": [
    "precision = np.zeros(7)\n",
    "recall = np.zeros(7)\n",
    "\n",
    "for i in range(7):\n",
    "    for j in range(len(predictions)):\n",
    "        if(predictions[j] == Y_train[j] == i):\n",
    "            precision[i] = precision[i] + 1\n",
    "            recall[i] = recall[i] + 1\n",
    "    precision[i] = precision[i] / np.sum(predictions == i)\n",
    "    recall[i] = recall[i] / np.sum(Y_train == i)\n"
   ]
  },
  {
   "cell_type": "code",
   "execution_count": 317,
   "id": "2f0c6ed7",
   "metadata": {},
   "outputs": [
    {
     "data": {
      "text/plain": [
       "array([402.,  55., 391., 284., 158.,  72., 190.])"
      ]
     },
     "execution_count": 317,
     "metadata": {},
     "output_type": "execute_result"
    }
   ],
   "source": [
    "f1_score = 2*precision*recall/(precision+recall)\n",
    "\n",
    "support_score = np.zeros(7)\n",
    "for i in range(7):\n",
    "    support_score[i] = np.sum(Y_train ==i)\n",
    "support_score"
   ]
  },
  {
   "cell_type": "code",
   "execution_count": 318,
   "id": "4ac9a5a0",
   "metadata": {},
   "outputs": [],
   "source": [
    "cr = np.zeros((4,7))\n",
    "cr[0] = precision\n",
    "cr[1] = recall\n",
    "cr[2] = f1_score\n",
    "cr[3] = support_score"
   ]
  },
  {
   "cell_type": "code",
   "execution_count": 319,
   "id": "c3e64ef0",
   "metadata": {},
   "outputs": [],
   "source": [
    "cr = cr.T"
   ]
  },
  {
   "cell_type": "code",
   "execution_count": 320,
   "id": "71dfa884",
   "metadata": {},
   "outputs": [
    {
     "data": {
      "text/plain": [
       "(7, 4)"
      ]
     },
     "execution_count": 320,
     "metadata": {},
     "output_type": "execute_result"
    }
   ],
   "source": [
    "cr.shape"
   ]
  },
  {
   "cell_type": "code",
   "execution_count": 321,
   "id": "7df93a73",
   "metadata": {},
   "outputs": [],
   "source": [
    "CR = pd.DataFrame(cr, columns = ['Precision','Recall','F1 Score','Support Score'])"
   ]
  },
  {
   "cell_type": "code",
   "execution_count": 322,
   "id": "df88f04b",
   "metadata": {},
   "outputs": [
    {
     "data": {
      "text/html": [
       "<div>\n",
       "<style scoped>\n",
       "    .dataframe tbody tr th:only-of-type {\n",
       "        vertical-align: middle;\n",
       "    }\n",
       "\n",
       "    .dataframe tbody tr th {\n",
       "        vertical-align: top;\n",
       "    }\n",
       "\n",
       "    .dataframe thead th {\n",
       "        text-align: right;\n",
       "    }\n",
       "</style>\n",
       "<table border=\"1\" class=\"dataframe\">\n",
       "  <thead>\n",
       "    <tr style=\"text-align: right;\">\n",
       "      <th></th>\n",
       "      <th>Precision</th>\n",
       "      <th>Recall</th>\n",
       "      <th>F1 Score</th>\n",
       "      <th>Support Score</th>\n",
       "    </tr>\n",
       "  </thead>\n",
       "  <tbody>\n",
       "    <tr>\n",
       "      <th>0</th>\n",
       "      <td>0.957816</td>\n",
       "      <td>0.960199</td>\n",
       "      <td>0.959006</td>\n",
       "      <td>402.0</td>\n",
       "    </tr>\n",
       "    <tr>\n",
       "      <th>1</th>\n",
       "      <td>0.981818</td>\n",
       "      <td>0.981818</td>\n",
       "      <td>0.981818</td>\n",
       "      <td>55.0</td>\n",
       "    </tr>\n",
       "    <tr>\n",
       "      <th>2</th>\n",
       "      <td>1.000000</td>\n",
       "      <td>0.982097</td>\n",
       "      <td>0.990968</td>\n",
       "      <td>391.0</td>\n",
       "    </tr>\n",
       "    <tr>\n",
       "      <th>3</th>\n",
       "      <td>0.949275</td>\n",
       "      <td>0.922535</td>\n",
       "      <td>0.935714</td>\n",
       "      <td>284.0</td>\n",
       "    </tr>\n",
       "    <tr>\n",
       "      <th>4</th>\n",
       "      <td>0.895954</td>\n",
       "      <td>0.981013</td>\n",
       "      <td>0.936556</td>\n",
       "      <td>158.0</td>\n",
       "    </tr>\n",
       "    <tr>\n",
       "      <th>5</th>\n",
       "      <td>0.972222</td>\n",
       "      <td>0.972222</td>\n",
       "      <td>0.972222</td>\n",
       "      <td>72.0</td>\n",
       "    </tr>\n",
       "    <tr>\n",
       "      <th>6</th>\n",
       "      <td>0.989418</td>\n",
       "      <td>0.984211</td>\n",
       "      <td>0.986807</td>\n",
       "      <td>190.0</td>\n",
       "    </tr>\n",
       "  </tbody>\n",
       "</table>\n",
       "</div>"
      ],
      "text/plain": [
       "   Precision    Recall  F1 Score  Support Score\n",
       "0   0.957816  0.960199  0.959006          402.0\n",
       "1   0.981818  0.981818  0.981818           55.0\n",
       "2   1.000000  0.982097  0.990968          391.0\n",
       "3   0.949275  0.922535  0.935714          284.0\n",
       "4   0.895954  0.981013  0.936556          158.0\n",
       "5   0.972222  0.972222  0.972222           72.0\n",
       "6   0.989418  0.984211  0.986807          190.0"
      ]
     },
     "execution_count": 322,
     "metadata": {},
     "output_type": "execute_result"
    }
   ],
   "source": [
    "CR"
   ]
  },
  {
   "cell_type": "code",
   "execution_count": 323,
   "id": "2bc7c2b8",
   "metadata": {},
   "outputs": [],
   "source": [
    "CR.insert(0, \"Class\", ['Bumps', 'Dirtiness', 'K_Scatch', 'Other_Faults', 'Pastry',\n",
    "       'Stains', 'Z_Scratch'])\n"
   ]
  },
  {
   "cell_type": "code",
   "execution_count": 324,
   "id": "2f139e7e",
   "metadata": {},
   "outputs": [
    {
     "data": {
      "text/html": [
       "<div>\n",
       "<style scoped>\n",
       "    .dataframe tbody tr th:only-of-type {\n",
       "        vertical-align: middle;\n",
       "    }\n",
       "\n",
       "    .dataframe tbody tr th {\n",
       "        vertical-align: top;\n",
       "    }\n",
       "\n",
       "    .dataframe thead th {\n",
       "        text-align: right;\n",
       "    }\n",
       "</style>\n",
       "<table border=\"1\" class=\"dataframe\">\n",
       "  <thead>\n",
       "    <tr style=\"text-align: right;\">\n",
       "      <th></th>\n",
       "      <th>Class</th>\n",
       "      <th>Precision</th>\n",
       "      <th>Recall</th>\n",
       "      <th>F1 Score</th>\n",
       "      <th>Support Score</th>\n",
       "    </tr>\n",
       "  </thead>\n",
       "  <tbody>\n",
       "    <tr>\n",
       "      <th>0</th>\n",
       "      <td>Bumps</td>\n",
       "      <td>0.957816</td>\n",
       "      <td>0.960199</td>\n",
       "      <td>0.959006</td>\n",
       "      <td>402.0</td>\n",
       "    </tr>\n",
       "    <tr>\n",
       "      <th>1</th>\n",
       "      <td>Dirtiness</td>\n",
       "      <td>0.981818</td>\n",
       "      <td>0.981818</td>\n",
       "      <td>0.981818</td>\n",
       "      <td>55.0</td>\n",
       "    </tr>\n",
       "    <tr>\n",
       "      <th>2</th>\n",
       "      <td>K_Scatch</td>\n",
       "      <td>1.000000</td>\n",
       "      <td>0.982097</td>\n",
       "      <td>0.990968</td>\n",
       "      <td>391.0</td>\n",
       "    </tr>\n",
       "    <tr>\n",
       "      <th>3</th>\n",
       "      <td>Other_Faults</td>\n",
       "      <td>0.949275</td>\n",
       "      <td>0.922535</td>\n",
       "      <td>0.935714</td>\n",
       "      <td>284.0</td>\n",
       "    </tr>\n",
       "    <tr>\n",
       "      <th>4</th>\n",
       "      <td>Pastry</td>\n",
       "      <td>0.895954</td>\n",
       "      <td>0.981013</td>\n",
       "      <td>0.936556</td>\n",
       "      <td>158.0</td>\n",
       "    </tr>\n",
       "    <tr>\n",
       "      <th>5</th>\n",
       "      <td>Stains</td>\n",
       "      <td>0.972222</td>\n",
       "      <td>0.972222</td>\n",
       "      <td>0.972222</td>\n",
       "      <td>72.0</td>\n",
       "    </tr>\n",
       "    <tr>\n",
       "      <th>6</th>\n",
       "      <td>Z_Scratch</td>\n",
       "      <td>0.989418</td>\n",
       "      <td>0.984211</td>\n",
       "      <td>0.986807</td>\n",
       "      <td>190.0</td>\n",
       "    </tr>\n",
       "  </tbody>\n",
       "</table>\n",
       "</div>"
      ],
      "text/plain": [
       "          Class  Precision    Recall  F1 Score  Support Score\n",
       "0         Bumps   0.957816  0.960199  0.959006          402.0\n",
       "1     Dirtiness   0.981818  0.981818  0.981818           55.0\n",
       "2      K_Scatch   1.000000  0.982097  0.990968          391.0\n",
       "3  Other_Faults   0.949275  0.922535  0.935714          284.0\n",
       "4        Pastry   0.895954  0.981013  0.936556          158.0\n",
       "5        Stains   0.972222  0.972222  0.972222           72.0\n",
       "6     Z_Scratch   0.989418  0.984211  0.986807          190.0"
      ]
     },
     "execution_count": 324,
     "metadata": {},
     "output_type": "execute_result"
    }
   ],
   "source": [
    "CR"
   ]
  },
  {
   "cell_type": "code",
   "execution_count": null,
   "id": "0217603b",
   "metadata": {},
   "outputs": [],
   "source": []
  },
  {
   "cell_type": "code",
   "execution_count": null,
   "id": "a249ed8b",
   "metadata": {},
   "outputs": [],
   "source": []
  }
 ],
 "metadata": {
  "kernelspec": {
   "display_name": "Python 3 (ipykernel)",
   "language": "python",
   "name": "python3"
  },
  "language_info": {
   "codemirror_mode": {
    "name": "ipython",
    "version": 3
   },
   "file_extension": ".py",
   "mimetype": "text/x-python",
   "name": "python",
   "nbconvert_exporter": "python",
   "pygments_lexer": "ipython3",
   "version": "3.10.9"
  }
 },
 "nbformat": 4,
 "nbformat_minor": 5
}
